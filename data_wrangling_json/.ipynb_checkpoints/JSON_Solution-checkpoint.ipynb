{
 "cells": [
  {
   "cell_type": "markdown",
   "metadata": {},
   "source": [
    "\n",
    "<center><h1>JSON Exercise</h1> </center>\n",
    "\n",
    "**Francisco Salas**\n",
    "\n",
    "\n",
    "Using data in file 'data/world_bank_projects.json' and the techniques demonstrated above,\n",
    "1. Find the 10 countries with most projects\n",
    "2. Find the top 10 major project themes (using column 'mjtheme_namecode')\n",
    "3. In 2. above you will notice that some entries have only the code and the name is missing. Create a dataframe with the missing names filled in."
   ]
  },
  {
   "cell_type": "markdown",
   "metadata": {},
   "source": [
    "## Load Required Libraries"
   ]
  },
  {
   "cell_type": "code",
   "execution_count": 1,
   "metadata": {},
   "outputs": [],
   "source": [
    "import pandas as pd\n",
    "import json\n",
    "from pandas.io.json import json_normalize\n",
    "import numpy as np\n",
    "import matplotlib.pyplot as plt\n",
    "import pprint"
   ]
  },
  {
   "cell_type": "markdown",
   "metadata": {},
   "source": [
    "## Load Dataset"
   ]
  },
  {
   "cell_type": "code",
   "execution_count": 2,
   "metadata": {},
   "outputs": [
    {
     "name": "stdout",
     "output_type": "stream",
     "text": [
      "\u001b[0m\u001b[01;32mworld_bank_projects.json\u001b[0m*  \u001b[01;32mworld_bank_projects_less.json\u001b[0m*\r\n"
     ]
    }
   ],
   "source": [
    "ls data"
   ]
  },
  {
   "cell_type": "code",
   "execution_count": 3,
   "metadata": {},
   "outputs": [],
   "source": [
    "file_less = 'data/world_bank_projects_less.json'\n",
    "file_full = 'data/world_bank_projects.json'\n",
    "\n",
    "df_less = pd.read_json(file_less, ['countryshortname'])\n",
    "df_full = pd.read_json(file_full)\n",
    "json_file = json.load((open('data/world_bank_projects_less.json')))\n",
    "json_load = json.load((open('data/world_bank_projects.json')))"
   ]
  },
  {
   "cell_type": "markdown",
   "metadata": {},
   "source": [
    "## Understanding the data :JSON"
   ]
  },
  {
   "cell_type": "code",
   "execution_count": 4,
   "metadata": {},
   "outputs": [
    {
     "name": "stdout",
     "output_type": "stream",
     "text": [
      "[{'_id': {'$oid': '52b213b38594d8a2be17c780'},\n",
      "  'approvalfy': 1999,\n",
      "  'board_approval_month': 'November',\n",
      "  'boardapprovaldate': '2013-11-12T00:00:00Z',\n",
      "  'borrower': 'FEDERAL DEMOCRATIC REPUBLIC OF ETHIOPIA',\n",
      "  'closingdate': '2018-07-07T00:00:00Z',\n",
      "  'country_namecode': 'Federal Democratic Republic of Ethiopia!$!ET',\n",
      "  'countrycode': 'ET',\n",
      "  'countryname': 'Federal Democratic Republic of Ethiopia',\n",
      "  'countryshortname': 'Ethiopia',\n",
      "  'docty': 'Project Information Document,Indigenous Peoples Plan,Project '\n",
      "           'Information Document',\n",
      "  'envassesmentcategorycode': 'C',\n",
      "  'grantamt': 0,\n",
      "  'ibrdcommamt': 0,\n",
      "  'id': 'P129828',\n",
      "  'idacommamt': 130000000,\n",
      "  'impagency': 'MINISTRY OF EDUCATION',\n",
      "  'lendinginstr': 'Investment Project Financing',\n",
      "  'lendinginstrtype': 'IN',\n",
      "  'lendprojectcost': 550000000,\n",
      "  'majorsector_percent': [{'Name': 'Education', 'Percent': 46},\n",
      "                          {'Name': 'Education', 'Percent': 26},\n",
      "                          {'Name': 'Public Administration, Law, and Justice',\n",
      "                           'Percent': 16},\n",
      "                          {'Name': 'Education', 'Percent': 12}],\n",
      "  'mjsector_namecode': [{'code': 'EX', 'name': 'Education'},\n",
      "                        {'code': 'EX', 'name': 'Education'},\n",
      "                        {'code': 'BX',\n",
      "                         'name': 'Public Administration, Law, and Justice'},\n",
      "                        {'code': 'EX', 'name': 'Education'}],\n",
      "  'mjtheme': ['Human development'],\n",
      "  'mjtheme_namecode': [{'code': '8', 'name': 'Human development'},\n",
      "                       {'code': '11', 'name': ''}],\n",
      "  'mjthemecode': '8,11',\n",
      "  'prodline': 'PE',\n",
      "  'prodlinetext': 'IBRD/IDA',\n",
      "  'productlinetype': 'L',\n",
      "  'project_abstract': {'cdata': 'The development objective of the Second Phase '\n",
      "                                'of General Education Quality Improvement '\n",
      "                                'Project for Ethiopia is to improve learning '\n",
      "                                'conditions in primary and secondary schools '\n",
      "                                'and strengthen institutions at different '\n",
      "                                'levels of educational administration. The '\n",
      "                                'project has six components. The first '\n",
      "                                'component is curriculum, textbooks, '\n",
      "                                'assessment, examinations, and inspection. '\n",
      "                                'This component will support improvement of '\n",
      "                                'learning conditions in grades KG-12 by '\n",
      "                                'providing increased access to teaching and '\n",
      "                                'learning materials and through improvements '\n",
      "                                'to the curriculum by assessing the strengths '\n",
      "                                'and weaknesses of the current curriculum. '\n",
      "                                'This component has following four '\n",
      "                                'sub-components: (i) curriculum reform and '\n",
      "                                'implementation; (ii) teaching and learning '\n",
      "                                'materials; (iii) assessment and examinations; '\n",
      "                                'and (iv) inspection. The second component is '\n",
      "                                'teacher development program (TDP). This '\n",
      "                                'component will support improvements in '\n",
      "                                'learning conditions in both primary and '\n",
      "                                'secondary schools by advancing the quality of '\n",
      "                                'teaching in general education through: (a) '\n",
      "                                'enhancing the training of pre-service '\n",
      "                                'teachers in teacher education institutions; '\n",
      "                                'and (b) improving the quality of in-service '\n",
      "                                'teacher training. This component has '\n",
      "                                'following three sub-components: (i) '\n",
      "                                'pre-service teacher training; (ii) in-service '\n",
      "                                'teacher training; and (iii) licensing and '\n",
      "                                'relicensing of teachers and school leaders. '\n",
      "                                'The third component is school improvement '\n",
      "                                'plan. This component will support the '\n",
      "                                'strengthening of school planning in order to '\n",
      "                                'improve learning outcomes, and to partly fund '\n",
      "                                'the school improvement plans through school '\n",
      "                                'grants. It has following two sub-components: '\n",
      "                                '(i) school improvement plan; and (ii) school '\n",
      "                                'grants. The fourth component is management '\n",
      "                                'and capacity building, including education '\n",
      "                                'management information systems (EMIS). This '\n",
      "                                'component will support management and '\n",
      "                                'capacity building aspect of the project. This '\n",
      "                                'component has following three sub-components: '\n",
      "                                '(i) capacity building for education planning '\n",
      "                                'and management; (ii) capacity building for '\n",
      "                                'school planning and management; and (iii) '\n",
      "                                'EMIS. The fifth component is improving the '\n",
      "                                'quality of learning and teaching in secondary '\n",
      "                                'schools and universities through the use of '\n",
      "                                'information and communications technology '\n",
      "                                '(ICT). It has following five sub-components: '\n",
      "                                '(i) national policy and institution for ICT '\n",
      "                                'in general education; (ii) national ICT '\n",
      "                                'infrastructure improvement plan for general '\n",
      "                                'education; (iii) develop an integrated '\n",
      "                                'monitoring, evaluation, and learning system '\n",
      "                                'specifically for the ICT component; (iv) '\n",
      "                                'teacher professional development in the use '\n",
      "                                'of ICT; and (v) provision of limited number '\n",
      "                                'of e-Braille display readers with the '\n",
      "                                'possibility to scale up to all secondary '\n",
      "                                'education schools based on the successful '\n",
      "                                'implementation and usage of the readers. The '\n",
      "                                'sixth component is program coordination, '\n",
      "                                'monitoring and evaluation, and communication. '\n",
      "                                'It will support institutional strengthening '\n",
      "                                'by developing capacities in all aspects of '\n",
      "                                'program coordination, monitoring and '\n",
      "                                'evaluation; a new sub-component on '\n",
      "                                'communications will support information '\n",
      "                                'sharing for better management and '\n",
      "                                'accountability. It has following three '\n",
      "                                'sub-components: (i) program coordination; '\n",
      "                                '(ii) monitoring and evaluation (M and E); and '\n",
      "                                '(iii) communication.'},\n",
      "  'project_name': 'Ethiopia General Education Quality Improvement Project II',\n",
      "  'projectdocs': [{'DocDate': '28-AUG-2013',\n",
      "                   'DocType': 'PID',\n",
      "                   'DocTypeDesc': 'Project Information Document (PID),  Vol.',\n",
      "                   'DocURL': 'http://www-wds.worldbank.org/servlet/WDSServlet?pcont=details&eid=090224b081e545fb_1_0',\n",
      "                   'EntityID': '090224b081e545fb_1_0'},\n",
      "                  {'DocDate': '01-JUL-2013',\n",
      "                   'DocType': 'IP',\n",
      "                   'DocTypeDesc': 'Indigenous Peoples Plan (IP),  Vol.1 of 1',\n",
      "                   'DocURL': 'http://www-wds.worldbank.org/servlet/WDSServlet?pcont=details&eid=000442464_20130920111729',\n",
      "                   'EntityID': '000442464_20130920111729'},\n",
      "                  {'DocDate': '22-NOV-2012',\n",
      "                   'DocType': 'PID',\n",
      "                   'DocTypeDesc': 'Project Information Document (PID),  Vol.',\n",
      "                   'DocURL': 'http://www-wds.worldbank.org/servlet/WDSServlet?pcont=details&eid=090224b0817b19e2_1_0',\n",
      "                   'EntityID': '090224b0817b19e2_1_0'}],\n",
      "  'projectfinancialtype': 'IDA',\n",
      "  'projectstatusdisplay': 'Active',\n",
      "  'regionname': 'Africa',\n",
      "  'sector': [{'Name': 'Primary education'},\n",
      "             {'Name': 'Secondary education'},\n",
      "             {'Name': 'Public administration- Other social services'},\n",
      "             {'Name': 'Tertiary education'}],\n",
      "  'sector1': {'Name': 'Primary education', 'Percent': 46},\n",
      "  'sector2': {'Name': 'Secondary education', 'Percent': 26},\n",
      "  'sector3': {'Name': 'Public administration- Other social services',\n",
      "              'Percent': 16},\n",
      "  'sector4': {'Name': 'Tertiary education', 'Percent': 12},\n",
      "  'sector_namecode': [{'code': 'EP', 'name': 'Primary education'},\n",
      "                      {'code': 'ES', 'name': 'Secondary education'},\n",
      "                      {'code': 'BS',\n",
      "                       'name': 'Public administration- Other social services'},\n",
      "                      {'code': 'ET', 'name': 'Tertiary education'}],\n",
      "  'sectorcode': 'ET,BS,ES,EP',\n",
      "  'source': 'IBRD',\n",
      "  'status': 'Active',\n",
      "  'supplementprojectflg': 'N',\n",
      "  'theme1': {'Name': 'Education for all', 'Percent': 100},\n",
      "  'theme_namecode': [{'code': '65', 'name': 'Education for all'}],\n",
      "  'themecode': '65',\n",
      "  'totalamt': 130000000,\n",
      "  'totalcommamt': 130000000,\n",
      "  'url': 'http://www.worldbank.org/projects/P129828/ethiopia-general-education-quality-improvement-project-ii?lang=en'},\n",
      " {'_id': {'$oid': '52b213b38594d8a2be17c781'},\n",
      "  'approvalfy': 2015,\n",
      "  'board_approval_month': 'November',\n",
      "  'boardapprovaldate': '2013-11-04T00:00:00Z',\n",
      "  'borrower': 'GOVERNMENT OF TUNISIA',\n",
      "  'country_namecode': 'Republic of Tunisia!$!TN',\n",
      "  'countrycode': 'TN',\n",
      "  'countryname': 'Republic of Tunisia',\n",
      "  'countryshortname': 'Tunisia',\n",
      "  'docty': 'Project Information Document,Integrated Safeguards Data '\n",
      "           'Sheet,Integrated Safeguards Data Sheet,Project Information '\n",
      "           'Document,Integrated Safeguards Data Sheet,Project Information '\n",
      "           'Document',\n",
      "  'envassesmentcategorycode': 'C',\n",
      "  'grantamt': 4700000,\n",
      "  'ibrdcommamt': 0,\n",
      "  'id': 'P144674',\n",
      "  'idacommamt': 0,\n",
      "  'impagency': 'MINISTRY OF FINANCE',\n",
      "  'lendinginstr': 'Specific Investment Loan',\n",
      "  'lendinginstrtype': 'IN',\n",
      "  'lendprojectcost': 5700000,\n",
      "  'majorsector_percent': [{'Name': 'Public Administration, Law, and Justice',\n",
      "                           'Percent': 70},\n",
      "                          {'Name': 'Public Administration, Law, and Justice',\n",
      "                           'Percent': 30}],\n",
      "  'mjsector_namecode': [{'code': 'BX',\n",
      "                         'name': 'Public Administration, Law, and Justice'},\n",
      "                        {'code': 'BX',\n",
      "                         'name': 'Public Administration, Law, and Justice'}],\n",
      "  'mjtheme': ['Economic management', 'Social protection and risk management'],\n",
      "  'mjtheme_namecode': [{'code': '1', 'name': 'Economic management'},\n",
      "                       {'code': '6',\n",
      "                        'name': 'Social protection and risk management'}],\n",
      "  'mjthemecode': '1,6',\n",
      "  'prodline': 'RE',\n",
      "  'prodlinetext': 'Recipient Executed Activities',\n",
      "  'productlinetype': 'L',\n",
      "  'project_name': 'TN: DTF Social Protection Reforms Support',\n",
      "  'projectdocs': [{'DocDate': '29-MAR-2013',\n",
      "                   'DocType': 'PID',\n",
      "                   'DocTypeDesc': 'Project Information Document (PID),  Vol.1 '\n",
      "                                  'of 1',\n",
      "                   'DocURL': 'http://www-wds.worldbank.org/servlet/WDSServlet?pcont=details&eid=000333037_20131024115616',\n",
      "                   'EntityID': '000333037_20131024115616'},\n",
      "                  {'DocDate': '29-MAR-2013',\n",
      "                   'DocType': 'ISDS',\n",
      "                   'DocTypeDesc': 'Integrated Safeguards Data Sheet (ISDS),  '\n",
      "                                  'Vol.1 of 1',\n",
      "                   'DocURL': 'http://www-wds.worldbank.org/servlet/WDSServlet?pcont=details&eid=000356161_20131024151611',\n",
      "                   'EntityID': '000356161_20131024151611'},\n",
      "                  {'DocDate': '29-MAR-2013',\n",
      "                   'DocType': 'ISDS',\n",
      "                   'DocTypeDesc': 'Integrated Safeguards Data Sheet (ISDS),  '\n",
      "                                  'Vol.1 of 1',\n",
      "                   'DocURL': 'http://www-wds.worldbank.org/servlet/WDSServlet?pcont=details&eid=000442464_20131031112136',\n",
      "                   'EntityID': '000442464_20131031112136'},\n",
      "                  {'DocDate': '29-MAR-2013',\n",
      "                   'DocType': 'PID',\n",
      "                   'DocTypeDesc': 'Project Information Document (PID),  Vol.1 '\n",
      "                                  'of 1',\n",
      "                   'DocURL': 'http://www-wds.worldbank.org/servlet/WDSServlet?pcont=details&eid=000333037_20131031105716',\n",
      "                   'EntityID': '000333037_20131031105716'},\n",
      "                  {'DocDate': '16-JAN-2013',\n",
      "                   'DocType': 'ISDS',\n",
      "                   'DocTypeDesc': 'Integrated Safeguards Data Sheet (ISDS),  '\n",
      "                                  'Vol.1 of 1',\n",
      "                   'DocURL': 'http://www-wds.worldbank.org/servlet/WDSServlet?pcont=details&eid=000356161_20130305113209',\n",
      "                   'EntityID': '000356161_20130305113209'},\n",
      "                  {'DocDate': '16-JAN-2013',\n",
      "                   'DocType': 'PID',\n",
      "                   'DocTypeDesc': 'Project Information Document (PID),  Vol.1 '\n",
      "                                  'of 1',\n",
      "                   'DocURL': 'http://www-wds.worldbank.org/servlet/WDSServlet?pcont=details&eid=000356161_20130305113716',\n",
      "                   'EntityID': '000356161_20130305113716'}],\n",
      "  'projectfinancialtype': 'OTHER',\n",
      "  'projectstatusdisplay': 'Active',\n",
      "  'regionname': 'Middle East and North Africa',\n",
      "  'sector': [{'Name': 'Public administration- Other social services'},\n",
      "             {'Name': 'General public administration sector'}],\n",
      "  'sector1': {'Name': 'Public administration- Other social services',\n",
      "              'Percent': 70},\n",
      "  'sector2': {'Name': 'General public administration sector', 'Percent': 30},\n",
      "  'sector_namecode': [{'code': 'BS',\n",
      "                       'name': 'Public administration- Other social services'},\n",
      "                      {'code': 'BZ',\n",
      "                       'name': 'General public administration sector'}],\n",
      "  'sectorcode': 'BZ,BS',\n",
      "  'source': 'IBRD',\n",
      "  'status': 'Active',\n",
      "  'supplementprojectflg': 'N',\n",
      "  'theme1': {'Name': 'Other economic management', 'Percent': 30},\n",
      "  'theme_namecode': [{'code': '24', 'name': 'Other economic management'},\n",
      "                     {'code': '54', 'name': 'Social safety nets'}],\n",
      "  'themecode': '54,24',\n",
      "  'totalamt': 0,\n",
      "  'totalcommamt': 4700000,\n",
      "  'url': 'http://www.worldbank.org/projects/P144674?lang=en'}]\n"
     ]
    }
   ],
   "source": [
    "pprint.pprint(json_file)"
   ]
  },
  {
   "cell_type": "markdown",
   "metadata": {},
   "source": [
    "## Understanding the data: Dataframe\n",
    "\n",
    "- 50 columns with diffrent types\n",
    "- 500 rows\n",
    "- several data missing"
   ]
  },
  {
   "cell_type": "code",
   "execution_count": 5,
   "metadata": {},
   "outputs": [
    {
     "name": "stdout",
     "output_type": "stream",
     "text": [
      "<class 'pandas.core.frame.DataFrame'>\n",
      "Int64Index: 500 entries, 0 to 499\n",
      "Data columns (total 50 columns):\n",
      "_id                         500 non-null object\n",
      "approvalfy                  500 non-null int64\n",
      "board_approval_month        500 non-null object\n",
      "boardapprovaldate           500 non-null object\n",
      "borrower                    485 non-null object\n",
      "closingdate                 370 non-null object\n",
      "country_namecode            500 non-null object\n",
      "countrycode                 500 non-null object\n",
      "countryname                 500 non-null object\n",
      "countryshortname            500 non-null object\n",
      "docty                       446 non-null object\n",
      "envassesmentcategorycode    430 non-null object\n",
      "grantamt                    500 non-null int64\n",
      "ibrdcommamt                 500 non-null int64\n",
      "id                          500 non-null object\n",
      "idacommamt                  500 non-null int64\n",
      "impagency                   472 non-null object\n",
      "lendinginstr                495 non-null object\n",
      "lendinginstrtype            495 non-null object\n",
      "lendprojectcost             500 non-null int64\n",
      "majorsector_percent         500 non-null object\n",
      "mjsector_namecode           500 non-null object\n",
      "mjtheme                     491 non-null object\n",
      "mjtheme_namecode            500 non-null object\n",
      "mjthemecode                 500 non-null object\n",
      "prodline                    500 non-null object\n",
      "prodlinetext                500 non-null object\n",
      "productlinetype             500 non-null object\n",
      "project_abstract            362 non-null object\n",
      "project_name                500 non-null object\n",
      "projectdocs                 446 non-null object\n",
      "projectfinancialtype        500 non-null object\n",
      "projectstatusdisplay        500 non-null object\n",
      "regionname                  500 non-null object\n",
      "sector                      500 non-null object\n",
      "sector1                     500 non-null object\n",
      "sector2                     380 non-null object\n",
      "sector3                     265 non-null object\n",
      "sector4                     174 non-null object\n",
      "sector_namecode             500 non-null object\n",
      "sectorcode                  500 non-null object\n",
      "source                      500 non-null object\n",
      "status                      500 non-null object\n",
      "supplementprojectflg        498 non-null object\n",
      "theme1                      500 non-null object\n",
      "theme_namecode              491 non-null object\n",
      "themecode                   491 non-null object\n",
      "totalamt                    500 non-null int64\n",
      "totalcommamt                500 non-null int64\n",
      "url                         500 non-null object\n",
      "dtypes: int64(7), object(43)\n",
      "memory usage: 199.2+ KB\n"
     ]
    }
   ],
   "source": [
    "df_full.info()"
   ]
  },
  {
   "cell_type": "markdown",
   "metadata": {},
   "source": [
    "# Question 1\n",
    "# Find the 10 countries with most projects\n",
    "\n",
    "- create a subset\n",
    "- count values\n",
    "- plot"
   ]
  },
  {
   "cell_type": "code",
   "execution_count": 6,
   "metadata": {},
   "outputs": [
    {
     "name": "stdout",
     "output_type": "stream",
     "text": [
      "<class 'pandas.core.frame.DataFrame'>\n",
      "Int64Index: 500 entries, 0 to 499\n",
      "Data columns (total 1 columns):\n",
      "countryshortname    500 non-null object\n",
      "dtypes: object(1)\n",
      "memory usage: 7.8+ KB\n"
     ]
    }
   ],
   "source": [
    "df_10 = df_full[['countryshortname']]  # subset with countryshortname  column\n",
    "df_10.info()"
   ]
  },
  {
   "cell_type": "markdown",
   "metadata": {},
   "source": [
    "## Find unique values\n",
    "\n",
    "From 500 rows, lets find how many unique values by calling `len()` on the  column countryshortname unique values"
   ]
  },
  {
   "cell_type": "code",
   "execution_count": 7,
   "metadata": {},
   "outputs": [
    {
     "data": {
      "text/plain": [
       "118"
      ]
     },
     "execution_count": 7,
     "metadata": {},
     "output_type": "execute_result"
    }
   ],
   "source": [
    "len(df_10.countryshortname.unique())"
   ]
  },
  {
   "cell_type": "markdown",
   "metadata": {},
   "source": [
    "## Solution 1: Top 10 Countries\n",
    "\n",
    "- we group by `countryshortname` then we count its values, we then sort_values acedning=False to display largest values first\n",
    "- we call head method to display the first few values (10), and we display the solution"
   ]
  },
  {
   "cell_type": "code",
   "execution_count": 8,
   "metadata": {},
   "outputs": [
    {
     "data": {
      "text/plain": [
       "countryshortname\n",
       "Indonesia             19\n",
       "China                 19\n",
       "Vietnam               17\n",
       "India                 16\n",
       "Yemen, Republic of    13\n",
       "Nepal                 12\n",
       "Bangladesh            12\n",
       "Morocco               12\n",
       "Mozambique            11\n",
       "Africa                11\n",
       "Name: countryshortname, dtype: int64"
      ]
     },
     "execution_count": 8,
     "metadata": {},
     "output_type": "execute_result"
    }
   ],
   "source": [
    "solution1 = df_10.groupby(['countryshortname'])['countryshortname'].count().sort_values( ascending=False)\n",
    "solution1 = solution1.head(10)\n",
    "solution1"
   ]
  },
  {
   "cell_type": "markdown",
   "metadata": {},
   "source": [
    "## Solution 1:  Plot"
   ]
  },
  {
   "cell_type": "code",
   "execution_count": 9,
   "metadata": {},
   "outputs": [
    {
     "data": {
      "image/png": "[encoded data removed]",
      "text/plain": [
       "<matplotlib.figure.Figure at 0x7ffd83a76e80>"
      ]
     },
     "metadata": {},
     "output_type": "display_data"
    }
   ],
   "source": [
    "title = 'Top 10 countries with projects'\n",
    "solution1.plot(kind='barh', title=title, width=0.8)\n",
    "plt.show()"
   ]
  },
  {
   "cell_type": "markdown",
   "metadata": {},
   "source": [
    "---\n",
    "\n",
    "# Question 2\n",
    "\n",
    "Find the top 10 major project themes (using column `mjtheme_namecode`)\n",
    "\n",
    "- load nested dataframe \n",
    "- replace empty rows with nan\n",
    "\n",
    "\n",
    "```json\n",
    "mjtheme_namecode': [{'code': '8', 'name': 'Human development'},\n",
    "                       {'code': '11', 'name': ''}],\n",
    "                       \n",
    "```                       \n",
    "                       \n",
    "`mjtheme_namecode` has two colums\n",
    "- code\n",
    "- name\n"
   ]
  },
  {
   "cell_type": "code",
   "execution_count": 10,
   "metadata": {},
   "outputs": [
    {
     "name": "stdout",
     "output_type": "stream",
     "text": [
      "<class 'pandas.core.frame.DataFrame'>\n",
      "RangeIndex: 1499 entries, 0 to 1498\n",
      "Data columns (total 2 columns):\n",
      "code    1499 non-null object\n",
      "name    1499 non-null object\n",
      "dtypes: object(2)\n",
      "memory usage: 23.5+ KB\n"
     ]
    }
   ],
   "source": [
    "df_2 = json_normalize(json_load,'mjtheme_namecode',errors='ignore')  # load key that we want to use,ignore erros\n",
    "df_2.info()"
   ]
  },
  {
   "cell_type": "markdown",
   "metadata": {},
   "source": [
    "## Understanding the data: Dataframe 1\n",
    "\n",
    "\n",
    "Here we have a dataframe with two columns:\n",
    "- code : 1499 non-null object\n",
    "- name : 1499 non- null object\n",
    "\n",
    "We seem to be missing some values on the name column."
   ]
  },
  {
   "cell_type": "code",
   "execution_count": 11,
   "metadata": {},
   "outputs": [
    {
     "data": {
      "text/html": [
       "<div>\n",
       "<style scoped>\n",
       "    .dataframe tbody tr th:only-of-type {\n",
       "        vertical-align: middle;\n",
       "    }\n",
       "\n",
       "    .dataframe tbody tr th {\n",
       "        vertical-align: top;\n",
       "    }\n",
       "\n",
       "    .dataframe thead th {\n",
       "        text-align: right;\n",
       "    }\n",
       "</style>\n",
       "<table border=\"1\" class=\"dataframe\">\n",
       "  <thead>\n",
       "    <tr style=\"text-align: right;\">\n",
       "      <th></th>\n",
       "      <th>code</th>\n",
       "      <th>name</th>\n",
       "    </tr>\n",
       "  </thead>\n",
       "  <tbody>\n",
       "    <tr>\n",
       "      <th>0</th>\n",
       "      <td>8</td>\n",
       "      <td>Human development</td>\n",
       "    </tr>\n",
       "    <tr>\n",
       "      <th>1</th>\n",
       "      <td>11</td>\n",
       "      <td></td>\n",
       "    </tr>\n",
       "    <tr>\n",
       "      <th>2</th>\n",
       "      <td>1</td>\n",
       "      <td>Economic management</td>\n",
       "    </tr>\n",
       "    <tr>\n",
       "      <th>3</th>\n",
       "      <td>6</td>\n",
       "      <td>Social protection and risk management</td>\n",
       "    </tr>\n",
       "    <tr>\n",
       "      <th>4</th>\n",
       "      <td>5</td>\n",
       "      <td>Trade and integration</td>\n",
       "    </tr>\n",
       "  </tbody>\n",
       "</table>\n",
       "</div>"
      ],
      "text/plain": [
       "  code                                   name\n",
       "0    8                      Human development\n",
       "1   11                                       \n",
       "2    1                    Economic management\n",
       "3    6  Social protection and risk management\n",
       "4    5                  Trade and integration"
      ]
     },
     "execution_count": 11,
     "metadata": {},
     "output_type": "execute_result"
    }
   ],
   "source": [
    "df_2.head()"
   ]
  },
  {
   "cell_type": "markdown",
   "metadata": {},
   "source": [
    "## Replace blank values to `np.nan`\n",
    "\n",
    "Lets replace those blank values to `NaN`\n",
    "- missing 122"
   ]
  },
  {
   "cell_type": "code",
   "execution_count": 12,
   "metadata": {},
   "outputs": [
    {
     "name": "stdout",
     "output_type": "stream",
     "text": [
      "<class 'pandas.core.frame.DataFrame'>\n",
      "RangeIndex: 1499 entries, 0 to 1498\n",
      "Data columns (total 2 columns):\n",
      "code    1499 non-null object\n",
      "name    1377 non-null object\n",
      "dtypes: object(2)\n",
      "memory usage: 23.5+ KB\n"
     ]
    }
   ],
   "source": [
    "df_2full  = df_2.apply(lambda x: x.str.strip() if isinstance(x, str) else x).replace('', np.nan)\n",
    "df_2full.info()"
   ]
  },
  {
   "cell_type": "markdown",
   "metadata": {},
   "source": [
    "## Understanding the data: Dataframe 2\n",
    "\n",
    "\n",
    "We now see that we are missing 122 values from the name column. That will come in handy for answering question 3"
   ]
  },
  {
   "cell_type": "code",
   "execution_count": 13,
   "metadata": {},
   "outputs": [
    {
     "data": {
      "text/html": [
       "<div>\n",
       "<style scoped>\n",
       "    .dataframe tbody tr th:only-of-type {\n",
       "        vertical-align: middle;\n",
       "    }\n",
       "\n",
       "    .dataframe tbody tr th {\n",
       "        vertical-align: top;\n",
       "    }\n",
       "\n",
       "    .dataframe thead th {\n",
       "        text-align: right;\n",
       "    }\n",
       "</style>\n",
       "<table border=\"1\" class=\"dataframe\">\n",
       "  <thead>\n",
       "    <tr style=\"text-align: right;\">\n",
       "      <th></th>\n",
       "      <th>code</th>\n",
       "      <th>name</th>\n",
       "    </tr>\n",
       "  </thead>\n",
       "  <tbody>\n",
       "    <tr>\n",
       "      <th>0</th>\n",
       "      <td>8</td>\n",
       "      <td>Human development</td>\n",
       "    </tr>\n",
       "    <tr>\n",
       "      <th>1</th>\n",
       "      <td>11</td>\n",
       "      <td>NaN</td>\n",
       "    </tr>\n",
       "    <tr>\n",
       "      <th>2</th>\n",
       "      <td>1</td>\n",
       "      <td>Economic management</td>\n",
       "    </tr>\n",
       "    <tr>\n",
       "      <th>3</th>\n",
       "      <td>6</td>\n",
       "      <td>Social protection and risk management</td>\n",
       "    </tr>\n",
       "    <tr>\n",
       "      <th>4</th>\n",
       "      <td>5</td>\n",
       "      <td>Trade and integration</td>\n",
       "    </tr>\n",
       "  </tbody>\n",
       "</table>\n",
       "</div>"
      ],
      "text/plain": [
       "  code                                   name\n",
       "0    8                      Human development\n",
       "1   11                                    NaN\n",
       "2    1                    Economic management\n",
       "3    6  Social protection and risk management\n",
       "4    5                  Trade and integration"
      ]
     },
     "execution_count": 13,
     "metadata": {},
     "output_type": "execute_result"
    }
   ],
   "source": [
    "df_2full.head()"
   ]
  },
  {
   "cell_type": "markdown",
   "metadata": {},
   "source": [
    "## Solution 2 : Top 10 major project themes\n",
    "\n",
    "Similar to Solution 1, we groupby name, then we count those values, sort them acending=False\n"
   ]
  },
  {
   "cell_type": "code",
   "execution_count": 14,
   "metadata": {},
   "outputs": [
    {
     "data": {
      "text/plain": [
       "name\n",
       "Environment and natural resources management    223\n",
       "Rural development                               202\n",
       "Human development                               197\n",
       "Public sector governance                        184\n",
       "Social protection and risk management           158\n",
       "Financial and private sector development        130\n",
       "Social dev/gender/inclusion                     119\n",
       "Trade and integration                            72\n",
       "Urban development                                47\n",
       "Economic management                              33\n",
       "Name: name, dtype: int64"
      ]
     },
     "execution_count": 14,
     "metadata": {},
     "output_type": "execute_result"
    }
   ],
   "source": [
    "solution2 = df_2full.groupby(['name'])['name'].count().sort_values( ascending=False)\n",
    "solution2 = solution2.head(10)    \n",
    "solution2"
   ]
  },
  {
   "cell_type": "markdown",
   "metadata": {},
   "source": [
    "## Solution 2: Plot"
   ]
  },
  {
   "cell_type": "code",
   "execution_count": 15,
   "metadata": {},
   "outputs": [
    {
     "data": {
      "image/png": "[encoded data removed]",
      "text/plain": [
       "<matplotlib.figure.Figure at 0x7ffd82613c50>"
      ]
     },
     "metadata": {},
     "output_type": "display_data"
    }
   ],
   "source": [
    "title = 'Top 10 Project Themes'\n",
    "solution2.plot(kind='barh', title=title, width=0.8)\n",
    "plt.show()"
   ]
  },
  {
   "cell_type": "markdown",
   "metadata": {},
   "source": [
    "---\n",
    "# Problem 3\n",
    "\n",
    "In 2. above you will notice that some entries have only the code and the name is missing. \n",
    "\n",
    "Create a dataframe with the missing names filled in."
   ]
  },
  {
   "cell_type": "markdown",
   "metadata": {},
   "source": [
    "## Lets look at it in detail\n",
    "\n",
    "We have two columns, one with a value and anothe one with name."
   ]
  },
  {
   "cell_type": "code",
   "execution_count": 16,
   "metadata": {},
   "outputs": [
    {
     "data": {
      "text/html": [
       "<div>\n",
       "<style scoped>\n",
       "    .dataframe tbody tr th:only-of-type {\n",
       "        vertical-align: middle;\n",
       "    }\n",
       "\n",
       "    .dataframe tbody tr th {\n",
       "        vertical-align: top;\n",
       "    }\n",
       "\n",
       "    .dataframe thead th {\n",
       "        text-align: right;\n",
       "    }\n",
       "</style>\n",
       "<table border=\"1\" class=\"dataframe\">\n",
       "  <thead>\n",
       "    <tr style=\"text-align: right;\">\n",
       "      <th></th>\n",
       "      <th>code</th>\n",
       "      <th>name</th>\n",
       "    </tr>\n",
       "  </thead>\n",
       "  <tbody>\n",
       "    <tr>\n",
       "      <th>0</th>\n",
       "      <td>8</td>\n",
       "      <td>Human development</td>\n",
       "    </tr>\n",
       "    <tr>\n",
       "      <th>1</th>\n",
       "      <td>11</td>\n",
       "      <td>NaN</td>\n",
       "    </tr>\n",
       "    <tr>\n",
       "      <th>2</th>\n",
       "      <td>1</td>\n",
       "      <td>Economic management</td>\n",
       "    </tr>\n",
       "    <tr>\n",
       "      <th>3</th>\n",
       "      <td>6</td>\n",
       "      <td>Social protection and risk management</td>\n",
       "    </tr>\n",
       "    <tr>\n",
       "      <th>4</th>\n",
       "      <td>5</td>\n",
       "      <td>Trade and integration</td>\n",
       "    </tr>\n",
       "    <tr>\n",
       "      <th>5</th>\n",
       "      <td>2</td>\n",
       "      <td>Public sector governance</td>\n",
       "    </tr>\n",
       "    <tr>\n",
       "      <th>6</th>\n",
       "      <td>11</td>\n",
       "      <td>Environment and natural resources management</td>\n",
       "    </tr>\n",
       "    <tr>\n",
       "      <th>7</th>\n",
       "      <td>6</td>\n",
       "      <td>Social protection and risk management</td>\n",
       "    </tr>\n",
       "    <tr>\n",
       "      <th>8</th>\n",
       "      <td>7</td>\n",
       "      <td>Social dev/gender/inclusion</td>\n",
       "    </tr>\n",
       "    <tr>\n",
       "      <th>9</th>\n",
       "      <td>7</td>\n",
       "      <td>Social dev/gender/inclusion</td>\n",
       "    </tr>\n",
       "  </tbody>\n",
       "</table>\n",
       "</div>"
      ],
      "text/plain": [
       "  code                                          name\n",
       "0    8                             Human development\n",
       "1   11                                           NaN\n",
       "2    1                           Economic management\n",
       "3    6         Social protection and risk management\n",
       "4    5                         Trade and integration\n",
       "5    2                      Public sector governance\n",
       "6   11  Environment and natural resources management\n",
       "7    6         Social protection and risk management\n",
       "8    7                   Social dev/gender/inclusion\n",
       "9    7                   Social dev/gender/inclusion"
      ]
     },
     "execution_count": 16,
     "metadata": {},
     "output_type": "execute_result"
    }
   ],
   "source": [
    "df_2full.head(10)"
   ]
  },
  {
   "cell_type": "markdown",
   "metadata": {},
   "source": [
    "It seems that the `code` number matches with the `name` value. \n",
    "\n",
    "\n",
    "\n",
    "```text\n",
    "  code                                          name\n",
    "0    8                             Human development\n",
    "1   11                                           NaN   <----- Environment and natural resources management???\n",
    "2    1                           Economic management\n",
    "3    6         Social protection and risk management\n",
    "4    5                         Trade and integration\n",
    "5    2                      Public sector governance\n",
    "6   11  Environment and natural resources management\n",
    "7    6         Social protection and risk management\n",
    "8    7                   Social dev/gender/inclusion\n",
    "9    7                   Social dev/gender/inclusion\n",
    "```"
   ]
  },
  {
   "cell_type": "markdown",
   "metadata": {},
   "source": [
    "## Lets find how many unique codes and names we have"
   ]
  },
  {
   "cell_type": "code",
   "execution_count": 17,
   "metadata": {},
   "outputs": [
    {
     "data": {
      "text/plain": [
       "array(['8', '11', '1', '6', '5', '2', '7', '4', '10', '9', '3'],\n",
       "      dtype=object)"
      ]
     },
     "execution_count": 17,
     "metadata": {},
     "output_type": "execute_result"
    }
   ],
   "source": [
    "df_2full.code.unique()  # 1- 11"
   ]
  },
  {
   "cell_type": "code",
   "execution_count": 18,
   "metadata": {},
   "outputs": [
    {
     "data": {
      "text/plain": [
       "array(['Human development', nan, 'Economic management',\n",
       "       'Social protection and risk management', 'Trade and integration',\n",
       "       'Public sector governance',\n",
       "       'Environment and natural resources management',\n",
       "       'Social dev/gender/inclusion',\n",
       "       'Financial and private sector development', 'Rural development',\n",
       "       'Urban development', 'Rule of law'], dtype=object)"
      ]
     },
     "execution_count": 18,
     "metadata": {},
     "output_type": "execute_result"
    }
   ],
   "source": [
    "df_2full.name.unique()  # 12 values??  ahh  nan values is the 12th unique."
   ]
  },
  {
   "cell_type": "markdown",
   "metadata": {},
   "source": [
    "## Sorting values\n",
    "lets sort the values of the code column so we can understand  it better"
   ]
  },
  {
   "cell_type": "code",
   "execution_count": 19,
   "metadata": {},
   "outputs": [
    {
     "data": {
      "text/html": [
       "<div>\n",
       "<style scoped>\n",
       "    .dataframe tbody tr th:only-of-type {\n",
       "        vertical-align: middle;\n",
       "    }\n",
       "\n",
       "    .dataframe tbody tr th {\n",
       "        vertical-align: top;\n",
       "    }\n",
       "\n",
       "    .dataframe thead th {\n",
       "        text-align: right;\n",
       "    }\n",
       "</style>\n",
       "<table border=\"1\" class=\"dataframe\">\n",
       "  <thead>\n",
       "    <tr style=\"text-align: right;\">\n",
       "      <th></th>\n",
       "      <th>code</th>\n",
       "      <th>name</th>\n",
       "    </tr>\n",
       "  </thead>\n",
       "  <tbody>\n",
       "    <tr>\n",
       "      <th>2</th>\n",
       "      <td>1</td>\n",
       "      <td>Economic management</td>\n",
       "    </tr>\n",
       "    <tr>\n",
       "      <th>88</th>\n",
       "      <td>1</td>\n",
       "      <td>Economic management</td>\n",
       "    </tr>\n",
       "    <tr>\n",
       "      <th>175</th>\n",
       "      <td>1</td>\n",
       "      <td>Economic management</td>\n",
       "    </tr>\n",
       "    <tr>\n",
       "      <th>204</th>\n",
       "      <td>1</td>\n",
       "      <td>Economic management</td>\n",
       "    </tr>\n",
       "    <tr>\n",
       "      <th>205</th>\n",
       "      <td>1</td>\n",
       "      <td>Economic management</td>\n",
       "    </tr>\n",
       "  </tbody>\n",
       "</table>\n",
       "</div>"
      ],
      "text/plain": [
       "    code                 name\n",
       "2      1  Economic management\n",
       "88     1  Economic management\n",
       "175    1  Economic management\n",
       "204    1  Economic management\n",
       "205    1  Economic management"
      ]
     },
     "execution_count": 19,
     "metadata": {},
     "output_type": "execute_result"
    }
   ],
   "source": [
    "df_2full = df_2full.sort_values(['code','name'], ascending=[1,0])\n",
    "df_2full.head()"
   ]
  },
  {
   "cell_type": "markdown",
   "metadata": {},
   "source": [
    "## Changing types\n",
    "Lets change the type of the code column to integer"
   ]
  },
  {
   "cell_type": "code",
   "execution_count": 20,
   "metadata": {},
   "outputs": [
    {
     "name": "stdout",
     "output_type": "stream",
     "text": [
      "<class 'pandas.core.frame.DataFrame'>\n",
      "Int64Index: 1499 entries, 2 to 471\n",
      "Data columns (total 2 columns):\n",
      "code    1499 non-null object\n",
      "name    1377 non-null object\n",
      "dtypes: object(2)\n",
      "memory usage: 35.1+ KB\n"
     ]
    }
   ],
   "source": [
    "df_2full.info()"
   ]
  },
  {
   "cell_type": "code",
   "execution_count": 21,
   "metadata": {},
   "outputs": [
    {
     "name": "stdout",
     "output_type": "stream",
     "text": [
      "<class 'pandas.core.frame.DataFrame'>\n",
      "Int64Index: 1499 entries, 2 to 471\n",
      "Data columns (total 2 columns):\n",
      "code    1499 non-null int64\n",
      "name    1377 non-null object\n",
      "dtypes: int64(1), object(1)\n",
      "memory usage: 35.1+ KB\n"
     ]
    }
   ],
   "source": [
    "df_2full['code'] = df_2full.code.astype(int)\n",
    "\n",
    "df_2full.info()"
   ]
  },
  {
   "cell_type": "markdown",
   "metadata": {},
   "source": [
    "## Organize\n",
    "\n",
    "Now lets find the matching code value to its name\n",
    "\n",
    "first well group by code & name, then we count the values "
   ]
  },
  {
   "cell_type": "code",
   "execution_count": 22,
   "metadata": {},
   "outputs": [
    {
     "data": {
      "text/plain": [
       "code  name                                        \n",
       "1     Economic management                              33\n",
       "2     Public sector governance                        184\n",
       "3     Rule of law                                      12\n",
       "4     Financial and private sector development        130\n",
       "5     Trade and integration                            72\n",
       "6     Social protection and risk management           158\n",
       "7     Social dev/gender/inclusion                     119\n",
       "8     Human development                               197\n",
       "9     Urban development                                47\n",
       "10    Rural development                               202\n",
       "11    Environment and natural resources management    223\n",
       "Name: name, dtype: int64"
      ]
     },
     "execution_count": 22,
     "metadata": {},
     "output_type": "execute_result"
    }
   ],
   "source": [
    "original = df_2full.groupby(['code','name'])['name'].count()\n",
    "original"
   ]
  },
  {
   "cell_type": "markdown",
   "metadata": {},
   "source": [
    "## Finding NaN's\n",
    "\n",
    "Now lets create a seres that counts its NaN values given its code number\n",
    "\n"
   ]
  },
  {
   "cell_type": "code",
   "execution_count": 23,
   "metadata": {},
   "outputs": [
    {
     "data": {
      "text/plain": [
       "1      5\n",
       "2     15\n",
       "3      3\n",
       "4     16\n",
       "5      5\n",
       "6     10\n",
       "7     11\n",
       "8     13\n",
       "9      3\n",
       "10    14\n",
       "11    27\n",
       "Name: code, dtype: int64"
      ]
     },
     "execution_count": 23,
     "metadata": {},
     "output_type": "execute_result"
    }
   ],
   "source": [
    "nann = df_2full[df_2full.isnull().any(axis=1)]\n",
    "nann = nann.code.value_counts().sort_index()\n",
    "nann"
   ]
  },
  {
   "cell_type": "markdown",
   "metadata": {},
   "source": [
    "## Solution 3\n",
    "\n",
    "\n",
    "From these two series we can tell what values are missing from each\n",
    "\n",
    "\n",
    "code values and corresponding sum of NaN values:\n",
    "\n",
    "\n",
    "```text\n",
    "\n",
    "code  name                                        \n",
    "1     Economic management                              33  +  5\n",
    "2     Public sector governance                        184  + 15\n",
    "3     Rule of law                                      12  +  3\n",
    "4     Financial and private sector development        130  + 16\n",
    "5     Trade and integration                            72  +  5\n",
    "6     Social protection and risk management           158  + 10\n",
    "7     Social dev/gender/inclusion                     119  + 11\n",
    "8     Human development                               197  + 13\n",
    "9     Urban development                                47  +  3\n",
    "10    Rural development                               202  + 14\n",
    "11    Environment and natural resources management    223  + 27\n",
    "Name: name, dtype: int64\n",
    "```\n",
    "---\n",
    "## Final solution\n",
    "\n",
    "\n",
    "We will fill those nan values by usith method `.fillna()` with values from neighbor rows.\n",
    "\n",
    "\n",
    "[pandas.DataFrame.fillna](https://pandas.pydata.org/pandas-docs/stable/generated/pandas.DataFrame.fillna.html)"
   ]
  },
  {
   "cell_type": "code",
   "execution_count": 24,
   "metadata": {},
   "outputs": [
    {
     "name": "stdout",
     "output_type": "stream",
     "text": [
      "<class 'pandas.core.frame.DataFrame'>\n",
      "Int64Index: 1499 entries, 2 to 471\n",
      "Data columns (total 2 columns):\n",
      "code    1499 non-null int64\n",
      "name    1499 non-null object\n",
      "dtypes: int64(1), object(1)\n",
      "memory usage: 35.1+ KB\n"
     ]
    }
   ],
   "source": [
    "solution3 = df_2full.fillna(method='ffill')\n",
    "sol_plot = solution3.name.value_counts() # better for plotting\n",
    "\n",
    "solution3.info()"
   ]
  },
  {
   "cell_type": "markdown",
   "metadata": {},
   "source": [
    "## Organize\n",
    "\n",
    "Now lets create a series with our new values"
   ]
  },
  {
   "cell_type": "code",
   "execution_count": 25,
   "metadata": {},
   "outputs": [
    {
     "data": {
      "text/plain": [
       "code  name                                        \n",
       "1     Economic management                              38\n",
       "2     Public sector governance                        199\n",
       "3     Rule of law                                      15\n",
       "4     Financial and private sector development        146\n",
       "5     Trade and integration                            77\n",
       "6     Social protection and risk management           168\n",
       "7     Social dev/gender/inclusion                     130\n",
       "8     Human development                               210\n",
       "9     Urban development                                50\n",
       "10    Rural development                               216\n",
       "11    Environment and natural resources management    250\n",
       "Name: name, dtype: int64"
      ]
     },
     "execution_count": 25,
     "metadata": {},
     "output_type": "execute_result"
    }
   ],
   "source": [
    "solution3 = solution3.groupby(['code','name'])['name'].count()\n",
    "solution3"
   ]
  },
  {
   "cell_type": "markdown",
   "metadata": {},
   "source": [
    "## Solution 3\n",
    "\n",
    "### original with  estimated nan values\n",
    "```text\n",
    "\n",
    "code  name                                        \n",
    "1     Economic management                              33  +  5\n",
    "2     Public sector governance                        184  + 15\n",
    "3     Rule of law                                      12  +  3\n",
    "4     Financial and private sector development        130  + 16\n",
    "5     Trade and integration                            72  +  5\n",
    "6     Social protection and risk management           158  + 10\n",
    "7     Social dev/gender/inclusion                     119  + 11\n",
    "8     Human development                               197  + 13\n",
    "9     Urban development                                47  +  3\n",
    "10    Rural development                               202  + 14\n",
    "11    Environment and natural resources management    223  + 27\n",
    "Name: name, dtype: int64\n",
    "```\n",
    "\n",
    "### final with `fillna()`\n",
    "\n",
    "```text\n",
    "code  name                                        \n",
    "1     Economic management                              38\n",
    "2     Public sector governance                        199\n",
    "3     Rule of law                                      15\n",
    "4     Financial and private sector development        146\n",
    "5     Trade and integration                            77\n",
    "6     Social protection and risk management           168\n",
    "7     Social dev/gender/inclusion                     130\n",
    "8     Human development                               210\n",
    "9     Urban development                                50\n",
    "10    Rural development                               216\n",
    "11    Environment and natural resources management    250\n",
    "```"
   ]
  },
  {
   "cell_type": "markdown",
   "metadata": {},
   "source": [
    "## Solution 3 Plot"
   ]
  },
  {
   "cell_type": "code",
   "execution_count": 26,
   "metadata": {},
   "outputs": [
    {
     "data": {
      "image/png": "[encoded data removed]",
      "text/plain": [
       "<matplotlib.figure.Figure at 0x7ffd82633160>"
      ]
     },
     "metadata": {},
     "output_type": "display_data"
    }
   ],
   "source": [
    "title = 'Project Themes'\n",
    "sol_plot.plot(kind='barh', title=title, width=0.8)\n",
    "plt.show()"
   ]
  },
  {
   "cell_type": "code",
   "execution_count": null,
   "metadata": {},
   "outputs": [],
   "source": []
  },
  {
   "cell_type": "code",
   "execution_count": null,
   "metadata": {},
   "outputs": [],
   "source": []
  }
 ],
 "metadata": {
  "kernelspec": {
   "display_name": "Python [conda env:datacamp]",
   "language": "python",
   "name": "conda-env-datacamp-py"
  },
  "language_info": {
   "codemirror_mode": {
    "name": "ipython",
    "version": 3
   },
   "file_extension": ".py",
   "mimetype": "text/x-python",
   "name": "python",
   "nbconvert_exporter": "python",
   "pygments_lexer": "ipython3",
   "version": "3.6.4"
  }
 },
 "nbformat": 4,
 "nbformat_minor": 2
}
